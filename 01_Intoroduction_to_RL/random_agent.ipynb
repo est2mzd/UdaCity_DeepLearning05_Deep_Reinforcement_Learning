{
 "cells": [
  {
   "cell_type": "code",
   "execution_count": 1,
   "metadata": {},
   "outputs": [
    {
     "name": "stderr",
     "output_type": "stream",
     "text": [
      "usage: ipykernel_launcher.py [-h] [env_id]\n",
      "ipykernel_launcher.py: error: unrecognized arguments: -f\n"
     ]
    },
    {
     "ename": "SystemExit",
     "evalue": "2",
     "output_type": "error",
     "traceback": [
      "An exception has occurred, use %tb to see the full traceback.\n",
      "\u001b[1;31mSystemExit\u001b[0m\u001b[1;31m:\u001b[0m 2\n"
     ]
    },
    {
     "name": "stderr",
     "output_type": "stream",
     "text": [
      "C:\\Users\\mbd_p\\Anaconda3\\envs\\UdaCity_01_Intro_ML\\lib\\site-packages\\IPython\\core\\interactiveshell.py:3304: UserWarning: To exit: use 'exit', 'quit', or Ctrl-D.\n",
      "  warn(\"To exit: use 'exit', 'quit', or Ctrl-D.\", stacklevel=1)\n"
     ]
    }
   ],
   "source": [
    "import argparse\n",
    "import sys\n",
    "\n",
    "import gym\n",
    "from gym import wrappers, logger\n",
    "\n",
    "class RandomAgent(object):\n",
    "    \"\"\"The world's simplest agent!\"\"\"\n",
    "    def __init__(self, action_space):\n",
    "        self.action_space = action_space\n",
    "\n",
    "    def act(self, observation, reward, done):\n",
    "        return self.action_space.sample()\n",
    "\n",
    "if __name__ == '__main__':\n",
    "    parser = argparse.ArgumentParser(description=None)\n",
    "    parser.add_argument('env_id', nargs='?', default='CartPole-v0', help='Select the environment to run')\n",
    "    args = parser.parse_args()\n",
    "\n",
    "    # You can set the level to logger.DEBUG or logger.WARN if you\n",
    "    # want to change the amount of output.\n",
    "    logger.set_level(logger.INFO)\n",
    "\n",
    "    env = gym.make(args.env_id)\n",
    "\n",
    "    # You provide the directory to write to (can be an existing\n",
    "    # directory, including one with existing data -- all monitor files\n",
    "    # will be namespaced). You can also dump to a tempdir if you'd\n",
    "    # like: tempfile.mkdtemp().\n",
    "    outdir = '/tmp/random-agent-results'\n",
    "    env = wrappers.Monitor(env, directory=outdir, force=True)\n",
    "    env.seed(0)\n",
    "    agent = RandomAgent(env.action_space)\n",
    "\n",
    "    episode_count = 100\n",
    "    reward = 0\n",
    "    done = False\n",
    "\n",
    "    for i in range(episode_count):\n",
    "        ob = env.reset()\n",
    "        while True:\n",
    "            action = agent.act(ob, reward, done)\n",
    "            ob, reward, done, _ = env.step(action)\n",
    "            if done:\n",
    "                break\n",
    "            # Note there's no env.render() here. But the environment still can open window and\n",
    "            # render if asked by env.monitor: it calls env.render('rgb_array') to record video.\n",
    "            # Video is not recorded every episode, see capped_cubic_video_schedule for details.\n",
    "\n",
    "    # Close the env and write monitor result info to disk\n",
    "    env.close()\n"
   ]
  }
 ],
 "metadata": {
  "kernelspec": {
   "display_name": "Python 3",
   "language": "python",
   "name": "python3"
  },
  "language_info": {
   "codemirror_mode": {
    "name": "ipython",
    "version": 3
   },
   "file_extension": ".py",
   "mimetype": "text/x-python",
   "name": "python",
   "nbconvert_exporter": "python",
   "pygments_lexer": "ipython3",
   "version": "3.6.8"
  }
 },
 "nbformat": 4,
 "nbformat_minor": 2
}
