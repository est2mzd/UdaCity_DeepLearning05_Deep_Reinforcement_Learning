{
 "cells": [
  {
   "cell_type": "code",
   "execution_count": 38,
   "metadata": {
    "collapsed": true
   },
   "outputs": [],
   "source": [
    "import torch\n",
    "import numpy as np"
   ]
  },
  {
   "cell_type": "code",
   "execution_count": 39,
   "outputs": [],
   "source": [
    "x = np.random.randn(10, 10)"
   ],
   "metadata": {
    "collapsed": false,
    "pycharm": {
     "name": "#%%\n"
    }
   }
  },
  {
   "cell_type": "code",
   "execution_count": 40,
   "outputs": [
    {
     "name": "stdout",
     "output_type": "stream",
     "text": [
      "x.max(1) \n",
      "\n",
      " [1.60996119 1.60620378 1.25905378 0.49584592 2.4911015  1.90920785\n",
      " 1.38104195 1.94188    1.32262062 2.65719912]\n"
     ]
    }
   ],
   "source": [
    "print(\"x.max(1) \\n\\n\", x.max(1))"
   ],
   "metadata": {
    "collapsed": false,
    "pycharm": {
     "name": "#%%\n"
    }
   }
  },
  {
   "cell_type": "code",
   "execution_count": 41,
   "outputs": [
    {
     "name": "stdout",
     "output_type": "stream",
     "text": [
      "torch.from_numpy(x).max(1)    \n",
      "\n",
      " torch.return_types.max(\n",
      "values=tensor([1.6100, 1.6062, 1.2591, 0.4958, 2.4911, 1.9092, 1.3810, 1.9419, 1.3226,\n",
      "        2.6572], dtype=torch.float64),\n",
      "indices=tensor([7, 0, 5, 1, 2, 4, 6, 7, 9, 6]))\n"
     ]
    }
   ],
   "source": [
    "print(\"torch.from_numpy(x).max(1)    \\n\\n\", torch.from_numpy(x).max(1))"
   ],
   "metadata": {
    "collapsed": false,
    "pycharm": {
     "name": "#%%\n"
    }
   }
  },
  {
   "cell_type": "code",
   "execution_count": 42,
   "outputs": [
    {
     "name": "stdout",
     "output_type": "stream",
     "text": [
      "torch.from_numpy(x).max(1)[0] \n",
      "\n",
      " tensor([1.6100, 1.6062, 1.2591, 0.4958, 2.4911, 1.9092, 1.3810, 1.9419, 1.3226,\n",
      "        2.6572], dtype=torch.float64)\n"
     ]
    }
   ],
   "source": [
    "# pytorchについて : max()[0] => 最大値を返す\n",
    "print(\"torch.from_numpy(x).max(1)[0] \\n\\n\", torch.from_numpy(x).max(1)[0])"
   ],
   "metadata": {
    "collapsed": false,
    "pycharm": {
     "name": "#%%\n"
    }
   }
  },
  {
   "cell_type": "code",
   "execution_count": 43,
   "outputs": [
    {
     "name": "stdout",
     "output_type": "stream",
     "text": [
      "torch.from_numpy(x).max(1)[1] \n",
      "\n",
      " tensor([7, 0, 5, 1, 2, 4, 6, 7, 9, 6])\n"
     ]
    }
   ],
   "source": [
    "# pytorchについて : max()[1] => 最大値に対応したindexを返す(argmax)\n",
    "print(\"torch.from_numpy(x).max(1)[1] \\n\\n\", torch.from_numpy(x).max(1)[1])\n"
   ],
   "metadata": {
    "collapsed": false,
    "pycharm": {
     "name": "#%%\n"
    }
   }
  },
  {
   "cell_type": "code",
   "execution_count": 52,
   "outputs": [
    {
     "name": "stdout",
     "output_type": "stream",
     "text": [
      "tensor([[ 1,  1],\n",
      "        [ 5,  5],\n",
      "        [ 9,  9],\n",
      "        [10, 11]])\n",
      "\n",
      "-------------------------\n",
      "\n",
      "\n",
      "-------------------------\n",
      "\n"
     ]
    }
   ],
   "source": [
    "source = torch.tensor([[1,2,3], [4,5,6], [7,8,9], [10,11,12]])\n",
    "\n",
    "# dim=1の方向に、indexを探して、出力する\n",
    "# dim=1のときは、dim=1以外の次数が、sourceとindexであっていればOK\n",
    "index  = torch.tensor([[0,0],[1,1],[2,2],[0,1]])\n",
    "print(source.gather(dim=1, index=index))\n",
    "\n",
    "print(\"\\n-------------------------\\n\")\n",
    "\n",
    "# dim=1の方向に、indexを探して、出力する\n",
    "# dim=1のときは、dim=1以外の次数が、sourceとindexであっていればOK\n",
    "index  = torch.tensor([[0],[1],[2],[0]])\n",
    "source.gather(dim=1, index=index)\n",
    "\n",
    "print(\"\\n-------------------------\\n\")"
   ],
   "metadata": {
    "collapsed": false,
    "pycharm": {
     "name": "#%%\n"
    }
   }
  },
  {
   "cell_type": "code",
   "execution_count": 53,
   "outputs": [
    {
     "name": "stdout",
     "output_type": "stream",
     "text": [
      "tensor([[1, 2, 3],\n",
      "        [4, 5, 6],\n",
      "        [7, 8, 9],\n",
      "        [7, 8, 9]])\n",
      "\n",
      "-------------------------\n",
      "\n"
     ]
    },
    {
     "data": {
      "text/plain": "tensor([[1, 5, 9]])"
     },
     "execution_count": 53,
     "metadata": {},
     "output_type": "execute_result"
    }
   ],
   "source": [
    "source = torch.tensor([[1,2,3], [4,5,6], [7,8,9], [10,11,12]])\n",
    "\n",
    "# dim=0の方向に、indexを探して、出力する\n",
    "# dim=0のときは、dim=0以外の次数が、sourceとindexであっていればOK\n",
    "index  = torch.tensor([[0,0,0],[1,1,1],[2,2,2],[2,2,2]])\n",
    "print(source.gather(dim=0, index=index))\n",
    "\n",
    "print(\"\\n-------------------------\\n\")\n",
    "\n",
    "# dim=0の方向に、indexを探して、出力する\n",
    "# dim=0のときは、dim=0以外の次数が、sourceとindexであっていればOK\n",
    "index  = torch.tensor([[0,1,2]])\n",
    "source.gather(dim=0, index=index)"
   ],
   "metadata": {
    "collapsed": false,
    "pycharm": {
     "name": "#%%\n"
    }
   }
  },
  {
   "cell_type": "code",
   "execution_count": null,
   "outputs": [],
   "source": [
    "\n"
   ],
   "metadata": {
    "collapsed": false,
    "pycharm": {
     "name": "#%%\n"
    }
   }
  }
 ],
 "metadata": {
  "kernelspec": {
   "display_name": "Python 3",
   "language": "python",
   "name": "python3"
  },
  "language_info": {
   "codemirror_mode": {
    "name": "ipython",
    "version": 2
   },
   "file_extension": ".py",
   "mimetype": "text/x-python",
   "name": "python",
   "nbconvert_exporter": "python",
   "pygments_lexer": "ipython2",
   "version": "2.7.6"
  }
 },
 "nbformat": 4,
 "nbformat_minor": 0
}